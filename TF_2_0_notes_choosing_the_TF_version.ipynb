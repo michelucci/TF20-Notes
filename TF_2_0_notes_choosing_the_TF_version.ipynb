{
  "nbformat": 4,
  "nbformat_minor": 0,
  "metadata": {
    "colab": {
      "name": "TF 2.0 notes - choosing the TF version.ipynb",
      "version": "0.3.2",
      "provenance": [],
      "collapsed_sections": [],
      "include_colab_link": true
    },
    "kernelspec": {
      "name": "python3",
      "display_name": "Python 3"
    }
  },
  "cells": [
    {
      "cell_type": "markdown",
      "metadata": {
        "id": "view-in-github",
        "colab_type": "text"
      },
      "source": [
        "<a href=\"https://colab.research.google.com/github/michelucci/TF20-Notes/blob/master/TF_2_0_notes_choosing_the_TF_version.ipynb\" target=\"_parent\"><img src=\"https://colab.research.google.com/assets/colab-badge.svg\" alt=\"Open In Colab\"/></a>"
      ]
    },
    {
      "cell_type": "markdown",
      "metadata": {
        "id": "ve-b4jzCMkrz",
        "colab_type": "text"
      },
      "source": [
        "# Few notes on how to import TF different versions"
      ]
    },
    {
      "cell_type": "code",
      "metadata": {
        "id": "4baZCvEhMc08",
        "colab_type": "code",
        "outputId": "4507fd5e-53f3-4f48-b07a-48d1a15f2c7f",
        "colab": {
          "base_uri": "https://localhost:8080/",
          "height": 84
        }
      },
      "source": [
        "%tensorflow_version"
      ],
      "execution_count": 0,
      "outputs": [
        {
          "output_type": "stream",
          "text": [
            "Currently selected TF version: 1.x\n",
            "Available versions:\n",
            "* 1.x\n",
            "* 2.x\n"
          ],
          "name": "stdout"
        }
      ]
    },
    {
      "cell_type": "markdown",
      "metadata": {
        "id": "5hpsq25LMucV",
        "colab_type": "text"
      },
      "source": [
        "Docstring:\n",
        "Implements the tensorflow_version line magic.\n",
        "\n",
        "If no parameter is specified, prints the currently selected and available\n",
        "TensorFlow versions. Otherwise, changes the selected version to the given\n",
        "version, if it exists."
      ]
    },
    {
      "cell_type": "code",
      "metadata": {
        "id": "C0v6ZD9cMkJ4",
        "colab_type": "code",
        "colab": {}
      },
      "source": [
        "tensorflow_version 1.x "
      ],
      "execution_count": 0,
      "outputs": []
    },
    {
      "cell_type": "code",
      "metadata": {
        "id": "z2kAWXo8MpWq",
        "colab_type": "code",
        "outputId": "5caf8fca-7e1b-4143-931e-39f7b89f5a2d",
        "colab": {
          "base_uri": "https://localhost:8080/",
          "height": 34
        }
      },
      "source": [
        "import tensorflow as tf\n",
        "print(tf.__version__)"
      ],
      "execution_count": 0,
      "outputs": [
        {
          "output_type": "stream",
          "text": [
            "1.14.0\n"
          ],
          "name": "stdout"
        }
      ]
    },
    {
      "cell_type": "markdown",
      "metadata": {
        "id": "hXJdCczuMrUy",
        "colab_type": "text"
      },
      "source": [
        "Now let's restart the runtime and then use TF 2.0 rc0."
      ]
    },
    {
      "cell_type": "code",
      "metadata": {
        "id": "WqLeSzfXMyCS",
        "colab_type": "code",
        "outputId": "2d1728d3-3f57-471a-dd66-5f02aad6f885",
        "colab": {
          "base_uri": "https://localhost:8080/",
          "height": 50
        }
      },
      "source": [
        "%tensorflow_version 2.x \n",
        "import tensorflow as tf\n",
        "print(tf.__version__)"
      ],
      "execution_count": 0,
      "outputs": [
        {
          "output_type": "stream",
          "text": [
            "TensorFlow 2.x selected.\n",
            "2.0.0-rc0\n"
          ],
          "name": "stdout"
        }
      ]
    },
    {
      "cell_type": "code",
      "metadata": {
        "id": "B6ZlbUF1M0DC",
        "colab_type": "code",
        "colab": {}
      },
      "source": [
        "%tensorflow_version??"
      ],
      "execution_count": 0,
      "outputs": []
    },
    {
      "cell_type": "code",
      "metadata": {
        "id": "M81_v_eFNEfq",
        "colab_type": "code",
        "outputId": "2c0ba478-d8f6-42a2-886a-8c5afd8ed971",
        "colab": {
          "base_uri": "https://localhost:8080/",
          "height": 34
        }
      },
      "source": [
        "tf.__name__"
      ],
      "execution_count": 0,
      "outputs": [
        {
          "output_type": "execute_result",
          "data": {
            "text/plain": [
              "'tensorflow'"
            ]
          },
          "metadata": {
            "tags": []
          },
          "execution_count": 7
        }
      ]
    },
    {
      "cell_type": "code",
      "metadata": {
        "id": "xqUCjIl-NyHa",
        "colab_type": "code",
        "colab": {}
      },
      "source": [
        ""
      ],
      "execution_count": 0,
      "outputs": []
    }
  ]
}