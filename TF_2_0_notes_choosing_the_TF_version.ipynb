{
  "nbformat": 4,
  "nbformat_minor": 0,
  "metadata": {
    "colab": {
      "name": "TF 2.0 notes - choosing the TF version.ipynb",
      "version": "0.3.2",
      "provenance": [],
      "collapsed_sections": [],
      "include_colab_link": true
    },
    "kernelspec": {
      "name": "python3",
      "display_name": "Python 3"
    }
  },
  "cells": [
    {
      "cell_type": "markdown",
      "metadata": {
        "id": "view-in-github",
        "colab_type": "text"
      },
      "source": [
        "<a href=\"https://colab.research.google.com/github/michelucci/TF20-Notes/blob/master/TF_2_0_notes_choosing_the_TF_version.ipynb\" target=\"_parent\"><img src=\"https://colab.research.google.com/assets/colab-badge.svg\" alt=\"Open In Colab\"/></a>"
      ]
    },
    {
      "cell_type": "markdown",
      "metadata": {
        "id": "ve-b4jzCMkrz",
        "colab_type": "text"
      },
      "source": [
        "# Few notes on how to import TF different versions"
      ]
    },
    {
      "cell_type": "markdown",
      "metadata": {
        "id": "dxLHSzgFXx2B",
        "colab_type": "text"
      },
      "source": [
        "Google Colab has a very easy way of selecting the major version of TensorFlow. It has a magic command (that exists only in Google Colab), that can let you choose the TF version very easily. For example by typing"
      ]
    },
    {
      "cell_type": "code",
      "metadata": {
        "id": "4baZCvEhMc08",
        "colab_type": "code",
        "outputId": "1fb4b3bb-f265-4be9-cc18-04b91cb97a73",
        "colab": {
          "base_uri": "https://localhost:8080/",
          "height": 85
        }
      },
      "source": [
        "%tensorflow_version"
      ],
      "execution_count": 1,
      "outputs": [
        {
          "output_type": "stream",
          "text": [
            "Currently selected TF version: 1.x\n",
            "Available versions:\n",
            "* 1.x\n",
            "* 2.x\n"
          ],
          "name": "stdout"
        }
      ]
    },
    {
      "cell_type": "markdown",
      "metadata": {
        "id": "5hpsq25LMucV",
        "colab_type": "text"
      },
      "source": [
        "You get all available versions. From the Docstring (that you can obtain by typing ```%tensorflow_version?```)\n",
        "\n",
        "    Docstring:\n",
        "    Implements the tensorflow_version line magic.\n",
        "\n",
        "    If no parameter is specified, prints the currently selected and available\n",
        "    TensorFlow versions. Otherwise, changes the selected version to the given\n",
        "    version, if it exists."
      ]
    },
    {
      "cell_type": "markdown",
      "metadata": {
        "id": "TO7fVOyDaVy2",
        "colab_type": "text"
      },
      "source": [
        "For example if you want to use ```1.X``` version (at the moment of writing the higher minor version is 14), you could use"
      ]
    },
    {
      "cell_type": "code",
      "metadata": {
        "id": "C0v6ZD9cMkJ4",
        "colab_type": "code",
        "colab": {}
      },
      "source": [
        "tensorflow_version 1.x "
      ],
      "execution_count": 0,
      "outputs": []
    },
    {
      "cell_type": "code",
      "metadata": {
        "id": "z2kAWXo8MpWq",
        "colab_type": "code",
        "outputId": "f6126587-36b1-43d0-e9e8-1bc0b9d87ca0",
        "colab": {
          "base_uri": "https://localhost:8080/",
          "height": 34
        }
      },
      "source": [
        "import tensorflow as tf\n",
        "print(tf.__version__)"
      ],
      "execution_count": 4,
      "outputs": [
        {
          "output_type": "stream",
          "text": [
            "1.14.0\n"
          ],
          "name": "stdout"
        }
      ]
    },
    {
      "cell_type": "markdown",
      "metadata": {
        "id": "hXJdCczuMrUy",
        "colab_type": "text"
      },
      "source": [
        "Now let's __restart the runtime__ (otherwise you cannot change the major version of TF used by the Google Colab) and then use TF 2.0 rc0."
      ]
    },
    {
      "cell_type": "code",
      "metadata": {
        "id": "WqLeSzfXMyCS",
        "colab_type": "code",
        "outputId": "2d1728d3-3f57-471a-dd66-5f02aad6f885",
        "colab": {
          "base_uri": "https://localhost:8080/",
          "height": 50
        }
      },
      "source": [
        "%tensorflow_version 2.x \n",
        "import tensorflow as tf\n",
        "print(tf.__version__)"
      ],
      "execution_count": 0,
      "outputs": [
        {
          "output_type": "stream",
          "text": [
            "TensorFlow 2.x selected.\n",
            "2.0.0-rc0\n"
          ],
          "name": "stdout"
        }
      ]
    }
  ]
}